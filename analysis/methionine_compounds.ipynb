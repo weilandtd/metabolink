{
 "cells": [
  {
   "cell_type": "code",
   "execution_count": 1,
   "metadata": {},
   "outputs": [
    {
     "name": "stderr",
     "output_type": "stream",
     "text": [
      "2025-01-27 15:09:45,217 - thermomodel_Recon3thermoCurated - INFO - # Model initialized with units kcal/mol and temperature 298.15 K\n"
     ]
    }
   ],
   "source": [
    "from pytfa.io.json import load_json_model\n",
    "model = load_json_model('./../models/TFA_GEM_Recon3_Lehninger_Curated_prepared.json')"
   ]
  },
  {
   "cell_type": "code",
   "execution_count": 2,
   "metadata": {},
   "outputs": [],
   "source": [
    "# This is the models with the original annotation \n",
    "# TODO: Put the original annotation back into the TFA \n",
    "# (its lost becuse the TFA model was made in matTFA ... )\n",
    "from cobra.io.json import load_json_model\n",
    "recon3 = load_json_model('./../models/Recon3D.json')"
   ]
  },
  {
   "cell_type": "code",
   "execution_count": 3,
   "metadata": {},
   "outputs": [],
   "source": [
    "# Add a defined medium \n",
    "\n",
    "medium_metabolites = {\n",
    "    'EX_o2_e': -100,\n",
    "    'EX_h2o_e': -100,\n",
    "    'EX_pi_e': -100,\n",
    "    'EX_nh4_e': -100,\n",
    "    'EX_h_e': -100,\n",
    "    'EX_so4_e': -100,\n",
    "    'EX_hco3_e': -100,\n",
    "    'EX_h2o2_e': -100,\n",
    "    'EX_glc_D_e': -100,\n",
    "    'EX_ac_e': -100,\n",
    "    'EX_lac_L_e': -100,\n",
    "    'EX_hdca_e': -100,\n",
    "    'EX_lnlc_e': -100,\n",
    "    'EX_ocdcea_e': -100,\n",
    "    'EX_ala_L_e': -100,\n",
    "    'EX_arg_L_e': -100,\n",
    "    'EX_asn_L_e': -100,\n",
    "    'EX_asp_L_e': -100,\n",
    "    'EX_cys_L_e': -100,\n",
    "    'EX_gln_L_e': -100,\n",
    "    'EX_glu_L_e': -100,\n",
    "    'EX_gly_e': -100,\n",
    "    'EX_his_L_e': -100,\n",
    "    'EX_ile_L_e': -100,\n",
    "    'EX_leu_L_e': -100,\n",
    "    'EX_lys_L_e': -100,\n",
    "    'EX_met_L_e': -100,\n",
    "    'EX_phe_L_e': -100,\n",
    "    'EX_pro_L_e': -100,\n",
    "    'EX_ser_L_e': -100,\n",
    "    'EX_thr_L_e': -100,\n",
    "    'EX_trp_L_e': -100,\n",
    "    'EX_tyr_L_e': -100,\n",
    "    'EX_val_L_e': -100,\n",
    "    'EX_bhb_e': -100,\n",
    "    'EX_chol_e': -100,\n",
    "}\n",
    "\n",
    "for m, b in medium_metabolites.items():\n",
    "    model.reactions.get_by_id(m).lower_bound = b\n",
    "\n",
    "# Also allow for cytostolic ATP to be produced\n",
    "model.reactions.cyt_atp2adp.lower_bound = -100"
   ]
  },
  {
   "cell_type": "code",
   "execution_count": 4,
   "metadata": {},
   "outputs": [],
   "source": [
    "# Read the met_label table \n",
    "import pandas as pd\n",
    "\n",
    "met_labels = pd.read_excel('Met_labeling_metabolites.xlsx')"
   ]
  },
  {
   "cell_type": "code",
   "execution_count": 16,
   "metadata": {},
   "outputs": [],
   "source": [
    "# from genome-scale metabolic models\n",
    "\n",
    "def find_metabolites_from_annotation(id, model):\n",
    "    \"\"\"\n",
    "    Find metabolites in a model based on a given annotation id\n",
    "\n",
    "    Parameters\n",
    "    ----------\n",
    "    id : str\n",
    "        The annotation id to search for\n",
    "    model : cobra.Model\n",
    "        The model to search in  \n",
    "        \n",
    "    \"\"\"\n",
    "\n",
    "    # Veryfi if id is a non empty string\n",
    "    if id and isinstance(id, str):\n",
    "        metabolites = [] \n",
    "        for met in model.metabolites:\n",
    "            for id_type, ids in met.annotation.items():\n",
    "                # TODO fix HMDB old vs new\n",
    "                if id_type == 'hmdb':\n",
    "                    # Compare only last 5 digits of HMDB ids\n",
    "                    if id[-5:] in [i[-5:] for i in ids]:\n",
    "                        metabolites.append(met.id)\n",
    "                if id in ids:\n",
    "                    metabolites.append(met.id)\n",
    "        if metabolites not in [[], None]:            \n",
    "            return metabolites\n",
    "        else:\n",
    "            return None\n",
    "    else:\n",
    "        return None"
   ]
  },
  {
   "cell_type": "code",
   "execution_count": 17,
   "metadata": {},
   "outputs": [],
   "source": [
    "#from metabolink.annotation import find_metabolites_from_annotation\n",
    "\n",
    "# Try to dinf the metablie labels using KEGG and HMDB \n",
    "kegg_2_met = met_labels.apply(lambda x: find_metabolites_from_annotation(x['KEGG'], recon3), axis=1)\n",
    "hmdb_2_met = met_labels.apply(lambda x: find_metabolites_from_annotation(x['HMDB'], recon3), axis=1)\n"
   ]
  },
  {
   "cell_type": "code",
   "execution_count": 18,
   "metadata": {},
   "outputs": [
    {
     "data": {
      "text/plain": [
       "0                                              None\n",
       "1                                [3sala_m, 3sala_c]\n",
       "2                                  [5mta_c, 5mta_e]\n",
       "3                             [ach_e, ach_n, ach_c]\n",
       "4                                              None\n",
       "5                                              None\n",
       "6                                              None\n",
       "7                       [creat_m, creat_c, creat_e]\n",
       "8                                              None\n",
       "9              [gthrd_c, gthrd_e, gthrd_r, gthrd_m]\n",
       "10                                             None\n",
       "11                                             None\n",
       "12         [acrn_c, acrn_m, acrn_x, acrn_r, acrn_e]\n",
       "13              [crn_c, crn_m, crn_x, crn_e, crn_r]\n",
       "14                   [met__L_c, met__L_e, met__L_m]\n",
       "15                                             None\n",
       "16                [HC00900_m, HC00900_c, HC00900_e]\n",
       "17                   [C02712_m, C02712_c, C02712_e]\n",
       "18                                             None\n",
       "19                                             None\n",
       "20    [cholp_c, cholp_g, cholp_l, cholp_e, cholp_n]\n",
       "21                                             None\n",
       "22             [ahcys_c, ahcys_r, ahcys_m, ahcys_e]\n",
       "dtype: object"
      ]
     },
     "execution_count": 18,
     "metadata": {},
     "output_type": "execute_result"
    }
   ],
   "source": [
    "hmdb_2_met"
   ]
  },
  {
   "cell_type": "code",
   "execution_count": 6,
   "metadata": {},
   "outputs": [],
   "source": [
    "# Make a unified list of model metabolites \n",
    "metabolites = set()\n",
    "for m in kegg_2_met:\n",
    "    if m is not None:\n",
    "        metabolites.update(m)\n",
    "for m in hmdb_2_met:\n",
    "    if m is not None:\n",
    "        metabolites.update(m)\n",
    "        \n",
    "metabolites = list(metabolites)\n",
    "metabolites.sort()\n",
    "\n",
    "# Subs two underscores for one\n",
    "metabolites = [m.replace('__', '_') for m in metabolites]"
   ]
  },
  {
   "cell_type": "code",
   "execution_count": null,
   "metadata": {},
   "outputs": [],
   "source": []
  },
  {
   "cell_type": "code",
   "execution_count": 7,
   "metadata": {},
   "outputs": [
    {
     "name": "stdout",
     "output_type": "stream",
     "text": [
      "Error for 3sala_c: Metabolites cannot be produced\n"
     ]
    },
    {
     "name": "stderr",
     "output_type": "stream",
     "text": [
      "Ignoring reaction 'pseudo_biomass' since it already exists.\n"
     ]
    },
    {
     "ename": "AttributeError",
     "evalue": "'NoneType' object has no attribute 'name'",
     "output_type": "error",
     "traceback": [
      "\u001b[0;31m---------------------------------------------------------------------------\u001b[0m",
      "\u001b[0;31mAttributeError\u001b[0m                            Traceback (most recent call last)",
      "Cell \u001b[0;32mIn[7], line 7\u001b[0m\n\u001b[1;32m      5\u001b[0m \u001b[38;5;28;01mfor\u001b[39;00m m \u001b[38;5;129;01min\u001b[39;00m metabolites:\n\u001b[1;32m      6\u001b[0m     \u001b[38;5;28;01mtry\u001b[39;00m:\n\u001b[0;32m----> 7\u001b[0m         precursor_set \u001b[38;5;241m=\u001b[39m \u001b[43mfind_precursor_sets\u001b[49m\u001b[43m(\u001b[49m\u001b[43mmetabolites\u001b[49m\u001b[43m,\u001b[49m\u001b[43m \u001b[49m\u001b[43mmodel\u001b[49m\u001b[43m)\u001b[49m\n\u001b[1;32m      8\u001b[0m         precursor_sets\u001b[38;5;241m.\u001b[39mappend(precursor_set)\n\u001b[1;32m      9\u001b[0m     \u001b[38;5;28;01mexcept\u001b[39;00m \u001b[38;5;167;01mValueError\u001b[39;00m \u001b[38;5;28;01mas\u001b[39;00m e:\n",
      "File \u001b[0;32m/mnt/c/Users/dw6835/src/metabolink/metabolink/core.py:75\u001b[0m, in \u001b[0;36mfind_precursor_sets\u001b[0;34m(metabolite_id, model, params, defined_precursors)\u001b[0m\n\u001b[1;32m     72\u001b[0m model\u001b[38;5;241m.\u001b[39madd_reaction(r)\n\u001b[1;32m     74\u001b[0m \u001b[38;5;66;03m# Test if all the metabolites can be produced\u001b[39;00m\n\u001b[0;32m---> 75\u001b[0m \u001b[43mmodel\u001b[49m\u001b[38;5;241;43m.\u001b[39;49m\u001b[43mobjective\u001b[49m \u001b[38;5;241m=\u001b[39m r\n\u001b[1;32m     76\u001b[0m solution \u001b[38;5;241m=\u001b[39m model\u001b[38;5;241m.\u001b[39moptimize()\n\u001b[1;32m     77\u001b[0m \u001b[38;5;28;01mif\u001b[39;00m solution\u001b[38;5;241m.\u001b[39mobjective_value \u001b[38;5;241m<\u001b[39m EPSILON:\n",
      "File \u001b[0;32m~/miniconda3/envs/pytfa/lib/python3.9/site-packages/cobra/core/model.py:1159\u001b[0m, in \u001b[0;36mModel.objective\u001b[0;34m(self, value)\u001b[0m\n\u001b[1;32m   1157\u001b[0m         \u001b[38;5;28;01mraise\u001b[39;00m \u001b[38;5;167;01mValueError\u001b[39;00m(\u001b[38;5;124m\"\u001b[39m\u001b[38;5;124minvalid objective\u001b[39m\u001b[38;5;124m\"\u001b[39m)\n\u001b[1;32m   1158\u001b[0m     value \u001b[38;5;241m=\u001b[39m {rxn: \u001b[38;5;241m1\u001b[39m \u001b[38;5;28;01mfor\u001b[39;00m rxn \u001b[38;5;129;01min\u001b[39;00m reactions}\n\u001b[0;32m-> 1159\u001b[0m \u001b[43mset_objective\u001b[49m\u001b[43m(\u001b[49m\u001b[38;5;28;43mself\u001b[39;49m\u001b[43m,\u001b[49m\u001b[43m \u001b[49m\u001b[43mvalue\u001b[49m\u001b[43m,\u001b[49m\u001b[43m \u001b[49m\u001b[43madditive\u001b[49m\u001b[38;5;241;43m=\u001b[39;49m\u001b[38;5;28;43;01mFalse\u001b[39;49;00m\u001b[43m)\u001b[49m\n",
      "File \u001b[0;32m~/miniconda3/envs/pytfa/lib/python3.9/site-packages/cobra/util/solver.py:181\u001b[0m, in \u001b[0;36mset_objective\u001b[0;34m(model, value, additive)\u001b[0m\n\u001b[1;32m    177\u001b[0m         model\u001b[38;5;241m.\u001b[39msolver\u001b[38;5;241m.\u001b[39mobjective \u001b[38;5;241m=\u001b[39m interface\u001b[38;5;241m.\u001b[39mObjective(\n\u001b[1;32m    178\u001b[0m             Zero, direction\u001b[38;5;241m=\u001b[39mmodel\u001b[38;5;241m.\u001b[39msolver\u001b[38;5;241m.\u001b[39mobjective\u001b[38;5;241m.\u001b[39mdirection\n\u001b[1;32m    179\u001b[0m         )\n\u001b[1;32m    180\u001b[0m     \u001b[38;5;28;01mfor\u001b[39;00m reaction, coef \u001b[38;5;129;01min\u001b[39;00m value\u001b[38;5;241m.\u001b[39mitems():\n\u001b[0;32m--> 181\u001b[0m         \u001b[43mmodel\u001b[49m\u001b[38;5;241;43m.\u001b[39;49m\u001b[43msolver\u001b[49m\u001b[38;5;241;43m.\u001b[39;49m\u001b[43mobjective\u001b[49m\u001b[38;5;241;43m.\u001b[39;49m\u001b[43mset_linear_coefficients\u001b[49m\u001b[43m(\u001b[49m\n\u001b[1;32m    182\u001b[0m \u001b[43m            \u001b[49m\u001b[43m{\u001b[49m\u001b[43mreaction\u001b[49m\u001b[38;5;241;43m.\u001b[39;49m\u001b[43mforward_variable\u001b[49m\u001b[43m:\u001b[49m\u001b[43m \u001b[49m\u001b[43mcoef\u001b[49m\u001b[43m,\u001b[49m\u001b[43m \u001b[49m\u001b[43mreaction\u001b[49m\u001b[38;5;241;43m.\u001b[39;49m\u001b[43mreverse_variable\u001b[49m\u001b[43m:\u001b[49m\u001b[43m \u001b[49m\u001b[38;5;241;43m-\u001b[39;49m\u001b[43mcoef\u001b[49m\u001b[43m}\u001b[49m\n\u001b[1;32m    183\u001b[0m \u001b[43m        \u001b[49m\u001b[43m)\u001b[49m\n\u001b[1;32m    185\u001b[0m \u001b[38;5;28;01melif\u001b[39;00m \u001b[38;5;28misinstance\u001b[39m(value, (Basic, optlang\u001b[38;5;241m.\u001b[39minterface\u001b[38;5;241m.\u001b[39mObjective)):\n\u001b[1;32m    186\u001b[0m     \u001b[38;5;28;01mif\u001b[39;00m \u001b[38;5;28misinstance\u001b[39m(value, Basic):\n",
      "File \u001b[0;32m~/miniconda3/envs/pytfa/lib/python3.9/site-packages/optlang/cplex_interface.py:379\u001b[0m, in \u001b[0;36mObjective.set_linear_coefficients\u001b[0;34m(self, coefficients)\u001b[0m\n\u001b[1;32m    377\u001b[0m \u001b[38;5;28;01mif\u001b[39;00m \u001b[38;5;28mself\u001b[39m\u001b[38;5;241m.\u001b[39mproblem \u001b[38;5;129;01mis\u001b[39;00m \u001b[38;5;129;01mnot\u001b[39;00m \u001b[38;5;28;01mNone\u001b[39;00m:\n\u001b[1;32m    378\u001b[0m     \u001b[38;5;28mself\u001b[39m\u001b[38;5;241m.\u001b[39mproblem\u001b[38;5;241m.\u001b[39mupdate()\n\u001b[0;32m--> 379\u001b[0m     \u001b[38;5;28mself\u001b[39m\u001b[38;5;241m.\u001b[39mproblem\u001b[38;5;241m.\u001b[39mproblem\u001b[38;5;241m.\u001b[39mobjective\u001b[38;5;241m.\u001b[39mset_linear([(variable\u001b[38;5;241m.\u001b[39mname, \u001b[38;5;28mfloat\u001b[39m(coefficient)) \u001b[38;5;28;01mfor\u001b[39;00m variable, coefficient \u001b[38;5;129;01min\u001b[39;00m coefficients\u001b[38;5;241m.\u001b[39mitems()])\n\u001b[1;32m    380\u001b[0m     \u001b[38;5;28mself\u001b[39m\u001b[38;5;241m.\u001b[39m_expression_expired \u001b[38;5;241m=\u001b[39m \u001b[38;5;28;01mTrue\u001b[39;00m\n\u001b[1;32m    381\u001b[0m \u001b[38;5;28;01melse\u001b[39;00m:\n",
      "File \u001b[0;32m~/miniconda3/envs/pytfa/lib/python3.9/site-packages/optlang/cplex_interface.py:379\u001b[0m, in \u001b[0;36m<listcomp>\u001b[0;34m(.0)\u001b[0m\n\u001b[1;32m    377\u001b[0m \u001b[38;5;28;01mif\u001b[39;00m \u001b[38;5;28mself\u001b[39m\u001b[38;5;241m.\u001b[39mproblem \u001b[38;5;129;01mis\u001b[39;00m \u001b[38;5;129;01mnot\u001b[39;00m \u001b[38;5;28;01mNone\u001b[39;00m:\n\u001b[1;32m    378\u001b[0m     \u001b[38;5;28mself\u001b[39m\u001b[38;5;241m.\u001b[39mproblem\u001b[38;5;241m.\u001b[39mupdate()\n\u001b[0;32m--> 379\u001b[0m     \u001b[38;5;28mself\u001b[39m\u001b[38;5;241m.\u001b[39mproblem\u001b[38;5;241m.\u001b[39mproblem\u001b[38;5;241m.\u001b[39mobjective\u001b[38;5;241m.\u001b[39mset_linear([(\u001b[43mvariable\u001b[49m\u001b[38;5;241;43m.\u001b[39;49m\u001b[43mname\u001b[49m, \u001b[38;5;28mfloat\u001b[39m(coefficient)) \u001b[38;5;28;01mfor\u001b[39;00m variable, coefficient \u001b[38;5;129;01min\u001b[39;00m coefficients\u001b[38;5;241m.\u001b[39mitems()])\n\u001b[1;32m    380\u001b[0m     \u001b[38;5;28mself\u001b[39m\u001b[38;5;241m.\u001b[39m_expression_expired \u001b[38;5;241m=\u001b[39m \u001b[38;5;28;01mTrue\u001b[39;00m\n\u001b[1;32m    381\u001b[0m \u001b[38;5;28;01melse\u001b[39;00m:\n",
      "\u001b[0;31mAttributeError\u001b[0m: 'NoneType' object has no attribute 'name'"
     ]
    }
   ],
   "source": [
    "from metabolink import find_precursor_sets\n",
    "\n",
    "# find precursor sets for all metabolites found in RECON3\n",
    "precursor_sets = []\n",
    "for m in metabolites:\n",
    "    try:\n",
    "        precursor_set = find_precursor_sets(metabolites, model)\n",
    "        precursor_sets.append(precursor_set)\n",
    "    except ValueError as e:\n",
    "        print(f'Error for {m}: {e}')\n"
   ]
  },
  {
   "cell_type": "code",
   "execution_count": null,
   "metadata": {},
   "outputs": [],
   "source": [
    "# Join the precursor list of dicts into a single dict \n",
    "precursor_dict = {}\n",
    "for p in precursor_sets:\n",
    "    precursor_dict.update(p)"
   ]
  },
  {
   "cell_type": "code",
   "execution_count": 19,
   "metadata": {},
   "outputs": [
    {
     "data": {
      "text/plain": [
       "{'seed_id': 'cpd00060'}"
      ]
     },
     "execution_count": 19,
     "metadata": {},
     "output_type": "execute_result"
    }
   ],
   "source": [
    "from metabolink.io import extract_precursor_sets\n",
    "table = extract_precursor_sets(precursor_dict)"
   ]
  },
  {
   "cell_type": "code",
   "execution_count": null,
   "metadata": {},
   "outputs": [],
   "source": []
  }
 ],
 "metadata": {
  "kernelspec": {
   "display_name": "pytfa",
   "language": "python",
   "name": "python3"
  },
  "language_info": {
   "codemirror_mode": {
    "name": "ipython",
    "version": 3
   },
   "file_extension": ".py",
   "mimetype": "text/x-python",
   "name": "python",
   "nbconvert_exporter": "python",
   "pygments_lexer": "ipython3",
   "version": "3.9.16"
  }
 },
 "nbformat": 4,
 "nbformat_minor": 2
}
